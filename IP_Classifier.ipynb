{
  "nbformat": 4,
  "nbformat_minor": 0,
  "metadata": {
    "colab": {
      "name": "IP_Classifier.ipynb",
      "provenance": [],
      "collapsed_sections": [],
      "authorship_tag": "ABX9TyOL0ezyxVmkd1Lon5H3EvRB",
      "include_colab_link": true
    },
    "kernelspec": {
      "name": "python3",
      "display_name": "Python 3"
    },
    "language_info": {
      "name": "python"
    }
  },
  "cells": [
    {
      "cell_type": "markdown",
      "metadata": {
        "id": "view-in-github",
        "colab_type": "text"
      },
      "source": [
        "<a href=\"https://colab.research.google.com/github/trishac97/ML-Policy-PoW/blob/master/IP_Classifier.ipynb\" target=\"_parent\"><img src=\"https://colab.research.google.com/assets/colab-badge.svg\" alt=\"Open In Colab\"/></a>"
      ]
    },
    {
      "cell_type": "code",
      "execution_count": null,
      "metadata": {
        "colab": {
          "base_uri": "https://localhost:8080/"
        },
        "id": "RFPi3krQ5Azv",
        "outputId": "10dda155-c049-4eb3-c3b5-193b66041e3a"
      },
      "outputs": [
        {
          "output_type": "stream",
          "name": "stdout",
          "text": [
            "Drive already mounted at /gdrive; to attempt to forcibly remount, call drive.mount(\"/gdrive\", force_remount=True).\n"
          ]
        }
      ],
      "source": [
        "import pickle\n",
        "import gensim\n",
        "import random\n",
        "import csv\n",
        "import numpy as np\n",
        "from google.colab import drive\n",
        "drive.mount('/gdrive')"
      ]
    },
    {
      "cell_type": "code",
      "source": [
        "goodIP_file_path = '/gdrive/MyDrive/IP_Classifier/DAbR-Dataset-main/good_IP_data.csv'\n",
        "badIP_file_path = '/gdrive/MyDrive/IP_Classifier/DAbR-Dataset-main/bad_IP_data.csv'"
      ],
      "metadata": {
        "id": "rJ3eFgPb7Mdw"
      },
      "execution_count": null,
      "outputs": []
    },
    {
      "cell_type": "code",
      "source": [
        "def list_splitter(list_to_split, ratio):\n",
        "    elements = len(list_to_split)\n",
        "    middle = int(elements * ratio)\n",
        "    return [list_to_split[:middle], list_to_split[middle:]]"
      ],
      "metadata": {
        "id": "ksPuEYsbduUt"
      },
      "execution_count": null,
      "outputs": []
    },
    {
      "cell_type": "code",
      "source": [
        "with open(goodIP_file_path, encoding=\"ISO-8859-1\", newline='') as f:\n",
        "    reader = csv.reader(f)\n",
        "    goodIpList = list(reader)\n",
        "with open(badIP_file_path, encoding=\"ISO-8859-1\", newline='') as f:\n",
        "    reader = csv.reader(f)\n",
        "    badIpList = list(reader)   \n",
        "ipAttributeList = goodIpList[0] # ['ip_address', 'city.names.en', 'subdivisions.names.en', 'country.iso_code', 'registered_country.iso_code', 'traits.user_type', 'traits.asn', 'traits.isp']\n",
        "goodIpList = goodIpList[1:]\n",
        "badIpList = badIpList[1:]\n",
        "\n",
        "mergedIpList = goodIpList + badIpList"
      ],
      "metadata": {
        "id": "1vQaZCKh79OU"
      },
      "execution_count": null,
      "outputs": []
    },
    {
      "cell_type": "code",
      "source": [
        "goodIpTrainList, goodIpTestList = list_splitter(goodIpList, 0.75)\n",
        "badIpTrainList, badIpTestList = list_splitter(badIpList, 0.75)"
      ],
      "metadata": {
        "id": "kIerjg6I8y0B"
      },
      "execution_count": null,
      "outputs": []
    },
    {
      "cell_type": "code",
      "source": [
        "attributeDict = [{}, {}, {}, {}, {}, {}, {}]\n",
        "\n",
        "for i in goodIpList:\n",
        "  for j in range(1,8):\n",
        "    if i[j] not in attributeDict[j-1].keys():\n",
        "      attributeDict[j-1][i[j]] = 0\n",
        "\n",
        "\n",
        "for i in badIpList:\n",
        "  for j in range(1,8):\n",
        "    if i[j] not in attributeDict[j-1].keys():\n",
        "      attributeDict[j-1][i[j]] = 1/(len(mergedIpList))\n",
        "    else:  \n",
        "      attributeDict[j-1][i[j]] = attributeDict[j-1][i[j]] + 1/len(mergedIpList)"
      ],
      "metadata": {
        "id": "PRzy36gJoRXy"
      },
      "execution_count": null,
      "outputs": []
    },
    {
      "cell_type": "code",
      "source": [
        "attributeDict[2]['VN']"
      ],
      "metadata": {
        "colab": {
          "base_uri": "https://localhost:8080/"
        },
        "id": "IsrCXRRBEOBC",
        "outputId": "14a25a3a-2eee-4a2b-9c51-068d8420d9d8"
      },
      "execution_count": null,
      "outputs": [
        {
          "output_type": "execute_result",
          "data": {
            "text/plain": [
              "0.017199325248473177"
            ]
          },
          "metadata": {},
          "execution_count": 109
        }
      ]
    },
    {
      "cell_type": "code",
      "source": [
        "maxBadIpVector = [0, 0, 0, 0, 0, 0, 0]\n",
        "indx = 0\n",
        "\n",
        "for i in attributeDict:\n",
        "  maxBadIpVector[indx] = max(i.values())\n",
        "  indx += 1"
      ],
      "metadata": {
        "id": "7c3m3HP4tm81"
      },
      "execution_count": null,
      "outputs": []
    },
    {
      "cell_type": "code",
      "source": [
        "maxBadIpVector"
      ],
      "metadata": {
        "colab": {
          "base_uri": "https://localhost:8080/"
        },
        "id": "FGu3m0DOvmV-",
        "outputId": "65b4e54a-205f-43d6-8092-6f892934ef7f"
      },
      "execution_count": null,
      "outputs": [
        {
          "output_type": "execute_result",
          "data": {
            "text/plain": [
              "[0.2798281207257081,\n",
              " 0.2775827482446257,\n",
              " 0.28741907540794615,\n",
              " 0.28754445153633146,\n",
              " 0.576639007932783,\n",
              " 0.22207531685955978,\n",
              " 0.09673338196407746]"
            ]
          },
          "metadata": {},
          "execution_count": 111
        }
      ]
    },
    {
      "cell_type": "code",
      "source": [
        "def getIpVector(ipAttrubute):\n",
        "  ipVector = [0, 0, 0, 0, 0, 0, 0]\n",
        "  indx = 0\n",
        "  for i in ipAttrubute:\n",
        "    try:\n",
        "      ipVector[indx] = attributeDict[indx][i]\n",
        "    except:\n",
        "      ipVector[indx] = 0\n",
        "    indx += 1\n",
        "  return ipVector"
      ],
      "metadata": {
        "id": "PKu86mPWvs25"
      },
      "execution_count": null,
      "outputs": []
    },
    {
      "cell_type": "code",
      "source": [
        "def getReputationScore(ipAttrubute):\n",
        "  ed = np.linalg.norm(np.array(getIpVector(ipAttrubute)) - np.array([0, 0, 0, 0, 0, 0, 0]))\n",
        "  edMax = np.linalg.norm(np.array(maxBadIpVector) - np.array([0, 0, 0, 0, 0, 0, 0]))\n",
        "\n",
        "  dabrScore = (1 - (ed/edMax)) * 10\n",
        "\n",
        "  return dabrScore"
      ],
      "metadata": {
        "id": "zsJjPq81w6Pu"
      },
      "execution_count": null,
      "outputs": []
    },
    {
      "cell_type": "code",
      "source": [
        "ipClassifyResult = []\n",
        "\n",
        "for i in goodIpTestList:\n",
        "  score = getReputationScore(i[1:])\n",
        "  if score > 6:\n",
        "    ipClassifyResult.append(1)\n",
        "  else:\n",
        "    ipClassifyResult.append(0)\n",
        "\n",
        "for i in badIpTestList:\n",
        "  score = getReputationScore(i[1:])\n",
        "  if score > 6:\n",
        "    ipClassifyResult.append(0)\n",
        "  else:\n",
        "    ipClassifyResult.append(1)\n",
        "\n",
        "sum(ipClassifyResult)/len(ipClassifyResult)"
      ],
      "metadata": {
        "colab": {
          "base_uri": "https://localhost:8080/"
        },
        "id": "kr2Qhzwey4Eg",
        "outputId": "821bce6d-93a6-4a48-d6d2-64b9dcd76194"
      },
      "execution_count": null,
      "outputs": [
        {
          "output_type": "execute_result",
          "data": {
            "text/plain": [
              "0.8036927285160702"
            ]
          },
          "metadata": {},
          "execution_count": 116
        }
      ]
    },
    {
      "cell_type": "markdown",
      "source": [
        "**Below is old code... No need to execute...**"
      ],
      "metadata": {
        "id": "l8UOhnTvvtbY"
      }
    },
    {
      "cell_type": "code",
      "source": [
        "goodIpVector = []\n",
        "badIpVector = []\n",
        "\n",
        "\n",
        "for i in goodIpTrainList:\n",
        "  temp = [0, 0, 0, 0, 0, 0, 0]\n",
        "  for j in range(1,8):\n",
        "    temp[j-1] = attributeDict[j-1][i[j]]\n",
        "    goodIpVector.append(temp)\n",
        "\n",
        "for i in badIpTrainList:\n",
        "  temp = [0, 0, 0, 0, 0, 0, 0]\n",
        "  for j in range(1,8):\n",
        "    temp[j-1] = attributeDict[j-1][i[j]]\n",
        "    badIpVector.append(temp)"
      ],
      "metadata": {
        "id": "NmkULMKDEpCo"
      },
      "execution_count": null,
      "outputs": []
    },
    {
      "cell_type": "code",
      "source": [
        "goodIpVector[0]"
      ],
      "metadata": {
        "colab": {
          "base_uri": "https://localhost:8080/"
        },
        "id": "HxPl8ocJjGdr",
        "outputId": "9b5afc3f-6de9-4443-f3ca-8a40689bc050"
      },
      "execution_count": null,
      "outputs": [
        {
          "output_type": "execute_result",
          "data": {
            "text/plain": [
              "[0, 0, 0, 0, 0, 0, 0]"
            ]
          },
          "metadata": {},
          "execution_count": 11
        }
      ]
    },
    {
      "cell_type": "code",
      "source": [
        "goodIpVector = np.array(goodIpVector)\n",
        "goodIpMean = goodIpVector.sum(axis=0)\n",
        "goodIpMean = np.true_divide(goodIpMean, len(goodIpVector))\n",
        "\n",
        "badIpVector = np.array(badIpVector)\n",
        "badIpMean = badIpVector.sum(axis=0)\n",
        "badIpMean = np.true_divide(badIpMean, len(badIpMean))"
      ],
      "metadata": {
        "id": "NR7O7PpmHPgm"
      },
      "execution_count": null,
      "outputs": []
    },
    {
      "cell_type": "code",
      "source": [
        "print(goodIpMean)"
      ],
      "metadata": {
        "colab": {
          "base_uri": "https://localhost:8080/"
        },
        "id": "7k7ZhIP_Hk0s",
        "outputId": "aad2d80f-7995-4024-c8ff-e4509c7825ff"
      },
      "execution_count": null,
      "outputs": [
        {
          "output_type": "stream",
          "name": "stdout",
          "text": [
            "[104.42384665  28.94561404   9.13996101  11.48135153   1.80838207\n",
            " 539.81234568 559.391423  ]\n"
          ]
        }
      ]
    },
    {
      "cell_type": "code",
      "source": [
        "print(badIpMean)"
      ],
      "metadata": {
        "colab": {
          "base_uri": "https://localhost:8080/"
        },
        "id": "xLmEVCcTOD-B",
        "outputId": "c1518eea-bb91-4b02-e265-a2135c216867"
      },
      "execution_count": null,
      "outputs": [
        {
          "output_type": "stream",
          "name": "stdout",
          "text": [
            "[3.81064730e+07 7.11621000e+06 9.21043000e+05 9.01276000e+05\n",
            " 4.54950000e+04 8.67066620e+07 1.04654919e+08]\n"
          ]
        }
      ]
    },
    {
      "cell_type": "code",
      "source": [
        "goodIpTestVector = []\n",
        "badIpTestVector = []\n",
        "\n",
        "\n",
        "for i in goodIpTestList:\n",
        "  temp = [0, 0, 0, 0, 0, 0, 0]\n",
        "  for j in range(1,8):\n",
        "    temp[j-1] = attributeDict[j-1][i[j]]\n",
        "    goodIpTestVector.append(temp)\n",
        "\n",
        "for i in badIpTestList:\n",
        "  temp = [0, 0, 0, 0, 0, 0, 0]\n",
        "  for j in range(1,8):\n",
        "    temp[j-1] = attributeDict[j-1][i[j]]\n",
        "    badIpTestVector.append(temp)"
      ],
      "metadata": {
        "id": "se7ublS3a6Ip"
      },
      "execution_count": null,
      "outputs": []
    },
    {
      "cell_type": "code",
      "source": [
        "ipClassifyResult = []\n",
        "\n",
        "for i in goodIpTestVector:\n",
        "  if (np.linalg.norm(i-goodIpMean) / (np.linalg.norm(i-goodIpMean) + np.linalg.norm(i-badIpMean))) < 0.99:\n",
        "    ipClassifyResult.append(1)\n",
        "  else:\n",
        "    ipClassifyResult.append(0)\n",
        "\n",
        "for i in badIpTestVector:\n",
        "  if (np.linalg.norm(i-goodIpMean) / (np.linalg.norm(i-goodIpMean) + np.linalg.norm(i-badIpMean))) >= 0.99:\n",
        "    ipClassifyResult.append(1)\n",
        "  else:\n",
        "    ipClassifyResult.append(0)"
      ],
      "metadata": {
        "id": "B8dxV5QibJg4"
      },
      "execution_count": null,
      "outputs": []
    },
    {
      "cell_type": "code",
      "source": [
        "sum(ipClassifyResult)/len(ipClassifyResult)"
      ],
      "metadata": {
        "colab": {
          "base_uri": "https://localhost:8080/"
        },
        "id": "eirEuC5sd8QE",
        "outputId": "747da838-b98d-44cb-c4fb-45c4feb60266"
      },
      "execution_count": null,
      "outputs": [
        {
          "output_type": "execute_result",
          "data": {
            "text/plain": [
              "0.194985754985755"
            ]
          },
          "metadata": {},
          "execution_count": 52
        }
      ]
    },
    {
      "cell_type": "code",
      "source": [
        "ipClassifyResult"
      ],
      "metadata": {
        "id": "2D8T8czOe79o"
      },
      "execution_count": null,
      "outputs": []
    },
    {
      "cell_type": "code",
      "source": [
        "np.linalg.norm(badIpTestVector[100]-goodIpMean)"
      ],
      "metadata": {
        "colab": {
          "base_uri": "https://localhost:8080/"
        },
        "id": "Gq175wgVoHv2",
        "outputId": "f056500d-6d93-487b-a2b0-cd093099c5b4"
      },
      "execution_count": null,
      "outputs": [
        {
          "output_type": "execute_result",
          "data": {
            "text/plain": [
              "2641.9695394420874"
            ]
          },
          "metadata": {},
          "execution_count": 54
        }
      ]
    },
    {
      "cell_type": "code",
      "source": [
        "np.linalg.norm(badIpTestVector[100]-badIpMean)"
      ],
      "metadata": {
        "colab": {
          "base_uri": "https://localhost:8080/"
        },
        "id": "g5CXCNfzXgOT",
        "outputId": "e09e518c-44de-45a3-8569-1bf3b742bd19"
      },
      "execution_count": null,
      "outputs": [
        {
          "output_type": "execute_result",
          "data": {
            "text/plain": [
              "141332078.53580436"
            ]
          },
          "metadata": {},
          "execution_count": 55
        }
      ]
    }
  ]
}